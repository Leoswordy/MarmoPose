{
 "cells": [
  {
   "cell_type": "code",
   "execution_count": null,
   "metadata": {},
   "outputs": [],
   "source": [
    "import sys\n",
    "sys.path.append('../')\n",
    "\n",
    "import logging\n",
    "import warnings\n",
    "warnings.filterwarnings(\"ignore\", category=UserWarning)\n",
    "\n",
    "from marmopose.version import __version__ as marmopose_version\n",
    "from marmopose.config import Config\n",
    "from marmopose.calibration.calibration import Calibrator\n",
    "from marmopose.processing.prediction import Predictor\n",
    "from marmopose.visualization.display_2d import Visualizer2D\n",
    "from marmopose.visualization.display_3d import Visualizer3D\n",
    "from marmopose.processing.triangulation import Reconstructor3D\n",
    "\n",
    "logging.basicConfig(level=logging.INFO, format='%(asctime)s - %(levelname)s - %(name)s - %(message)s')\n",
    "logger = logging.getLogger(__name__)\n",
    "\n",
    "logger.info(f'MarmoPose version: {marmopose_version}')"
   ]
  },
  {
   "cell_type": "code",
   "execution_count": null,
   "metadata": {},
   "outputs": [],
   "source": [
    "config_path = '../configs/default.yaml'\n",
    "\n",
    "config = Config(\n",
    "    config_path=config_path,\n",
    "\n",
    "    # By default, 'detection_model_family' will identify 4 types of marmosets: {'white_head_marmoset':0, 'blue_head_marmoset':1, 'green_head_marmoset':2, 'red_head_marmoset':3}\n",
    "    # In this example, we aim to track a subset of the instances: 'blue_head_marmoset' and 'green_head_marmoset'\n",
    "    # We first need to set 'n_tracks' to the number of marmosets we want to track (here is 2), then specify the label_mapping form 'label_id' to 'track_id'\n",
    "    # The model's output label_id of 'blue_head_marmoset' is 1, 'green_head_marmoset' is 2\n",
    "    # Here we map their track_id to 1 and 0 respectively (where track_id should be in 'range(n_tracks)')\n",
    "    n_tracks=2, \n",
    "    label_mapping = {\n",
    "        1: 1,\n",
    "        2: 0\n",
    "    },\n",
    "    project='../demos/family_subset',\n",
    "\n",
    "    det_model='../models/detection_model_family',\n",
    "    # Use default pose model in the config\n",
    "    \n",
    "    do_optimize=True \n",
    ")"
   ]
  },
  {
   "cell_type": "code",
   "execution_count": null,
   "metadata": {},
   "outputs": [],
   "source": [
    "# Run 2D prediction\n",
    "predictor = Predictor(config, batch_size=4)\n",
    "predictor.predict()"
   ]
  },
  {
   "cell_type": "code",
   "execution_count": null,
   "metadata": {},
   "outputs": [],
   "source": [
    "# Run 3D triangulation\n",
    "reconstructor_3d = Reconstructor3D(config)\n",
    "reconstructor_3d.triangulate()"
   ]
  },
  {
   "cell_type": "code",
   "execution_count": null,
   "metadata": {},
   "outputs": [],
   "source": [
    "# Visualize 2D results if needed\n",
    "visualizer_2d = Visualizer2D(config)\n",
    "visualizer_2d.generate_videos_2d()"
   ]
  },
  {
   "cell_type": "code",
   "execution_count": null,
   "metadata": {},
   "outputs": [],
   "source": [
    "# Visualize 3D results if needed\n",
    "visualizer_3d = Visualizer3D(config)\n",
    "\n",
    "# Visualize the original 3D poses\n",
    "visualizer_3d.generate_video_3d(source='original') # Generate 3D video\n",
    "visualizer_3d.generate_video_combined(source='original') # Combine 2D and 3D video for convenience\n",
    "\n",
    "# Visualize the smoothed & optimized 3D poses (require `do_optimize=True` in the config)\n",
    "visualizer_3d.generate_video_3d(source='optimized')\n",
    "visualizer_3d.generate_video_combined(source='optimized')"
   ]
  }
 ],
 "metadata": {
  "kernelspec": {
   "display_name": "mmpose",
   "language": "python",
   "name": "python3"
  },
  "language_info": {
   "codemirror_mode": {
    "name": "ipython",
    "version": 3
   },
   "file_extension": ".py",
   "mimetype": "text/x-python",
   "name": "python",
   "nbconvert_exporter": "python",
   "pygments_lexer": "ipython3",
   "version": "3.8.19"
  }
 },
 "nbformat": 4,
 "nbformat_minor": 2
}
