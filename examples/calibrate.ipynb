{
 "cells": [
  {
   "cell_type": "code",
   "execution_count": null,
   "metadata": {},
   "outputs": [],
   "source": [
    "import sys\n",
    "sys.path.append('../')\n",
    "\n",
    "import logging\n",
    "\n",
    "from marmopose.version import __version__ as marmopose_version\n",
    "from marmopose.config import Config\n",
    "from marmopose.calibration.calibration import Calibrator\n",
    "\n",
    "logging.basicConfig(level=logging.INFO, format='%(asctime)s - %(levelname)s - %(name)s - %(message)s')\n",
    "logger = logging.getLogger(__name__)\n",
    "\n",
    "logger.info(f'MarmoPose version: {marmopose_version}')"
   ]
  },
  {
   "cell_type": "code",
   "execution_count": null,
   "metadata": {},
   "outputs": [],
   "source": [
    "config_path = '../configs/default.yaml'\n",
    "\n",
    "config = Config(\n",
    "    config_path=config_path,\n",
    "    # Specify the project, where videos (~2min) with checkboard exist in the 'calibration' directory\n",
    "    # For each project, calibration only needs to be done once\n",
    "    # The camera parameters will be saved in 'camera_params.json'\n",
    "    project='../demos/family' \n",
    ")\n",
    "\n",
    "calibrator = Calibrator(config)"
   ]
  },
  {
   "cell_type": "code",
   "execution_count": null,
   "metadata": {},
   "outputs": [],
   "source": [
    "# First set customized coordinates, otherwise random coordinates will be used\n",
    "# Choose two videos with obvious landmarks to annotate 'original point', 'x-axis point', 'y-axis point' in order\n",
    "calibrator.set_coordinates(video_inds=[1, 2], obj_name='axes', offset=(150, 50, 120))"
   ]
  },
  {
   "cell_type": "code",
   "execution_count": null,
   "metadata": {},
   "outputs": [],
   "source": [
    "calibrator.calibrate()"
   ]
  }
 ],
 "metadata": {
  "kernelspec": {
   "display_name": "marmopose",
   "language": "python",
   "name": "python3"
  },
  "language_info": {
   "codemirror_mode": {
    "name": "ipython",
    "version": 3
   },
   "file_extension": ".py",
   "mimetype": "text/x-python",
   "name": "python",
   "nbconvert_exporter": "python",
   "pygments_lexer": "ipython3",
   "version": "3.8.19"
  }
 },
 "nbformat": 4,
 "nbformat_minor": 2
}
