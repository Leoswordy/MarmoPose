{
 "cells": [
  {
   "cell_type": "code",
   "execution_count": null,
   "metadata": {},
   "outputs": [],
   "source": [
    "import sys\n",
    "sys.path.append('../')\n",
    "\n",
    "import logging\n",
    "import warnings\n",
    "warnings.filterwarnings(\"ignore\", category=UserWarning) # TODO: Remove this in formal release\n",
    "\n",
    "from marmopose.version import __version__ as marmopose_version\n",
    "from marmopose.config import Config\n",
    "from marmopose.processing.prediction import Predictor\n",
    "from marmopose.visualization.display_2d import Visualizer2D\n",
    "from marmopose.visualization.display_3d import Visualizer3D\n",
    "from marmopose.processing.triangulation import Reconstructor3D\n",
    "\n",
    "logging.basicConfig(level=logging.INFO, format='%(asctime)s - %(levelname)s - %(name)s - %(message)s')\n",
    "logger = logging.getLogger(__name__)\n",
    "\n",
    "logger.info(f'MarmoPose version: {marmopose_version}')"
   ]
  },
  {
   "cell_type": "code",
   "execution_count": null,
   "metadata": {},
   "outputs": [],
   "source": [
    "# Path to the configuration file\n",
    "config_path = '../configs/default.yaml'\n",
    "\n",
    "# Configuration setup\n",
    "# You can either modify the parameters directly in the YAML configuration file (default.yaml),\n",
    "# or override specific parameters directly in the code below, as shown.\n",
    "config = Config(\n",
    "    config_path=config_path,\n",
    "    \n",
    "    # The following parameters override those in the default.yaml file\n",
    "    n_tracks=2, \n",
    "\n",
    "    project='../demos/pair',\n",
    "    det_model='../models/detection_model',\n",
    "    pose_model='../models/pose_model',\n",
    "    dae_model='../models/dae_model',\n",
    "\n",
    "    dae_enable=True,\n",
    "    do_optimize=True\n",
    ")"
   ]
  },
  {
   "cell_type": "code",
   "execution_count": null,
   "metadata": {},
   "outputs": [],
   "source": [
    "# Run 2D prediction\n",
    "predictor = Predictor(config, batch_size=4)\n",
    "predictor.predict()"
   ]
  },
  {
   "cell_type": "code",
   "execution_count": null,
   "metadata": {},
   "outputs": [],
   "source": [
    "# Run 3D triangulation and (optional) optimization \n",
    "reconstructor_3d = Reconstructor3D(config)\n",
    "reconstructor_3d.triangulate()"
   ]
  },
  {
   "cell_type": "code",
   "execution_count": null,
   "metadata": {},
   "outputs": [],
   "source": [
    "# Visualize 2D results if needed\n",
    "visualizer_2d = Visualizer2D(config)\n",
    "visualizer_2d.generate_videos_2d()"
   ]
  },
  {
   "cell_type": "code",
   "execution_count": null,
   "metadata": {},
   "outputs": [],
   "source": [
    "# Visualize 3D results if needed\n",
    "visualizer_3d = Visualizer3D(config)\n",
    "\n",
    "# source_3d: 'original' indicates the 3D poses before optimization, 'optimized' indicates the 3D poses after optimization\n",
    "# video_type: 'composite' indicates the 3D video is composited with 2D video, '3d' indicates only 3D video is shown; generating 'composite' video is about 2x slower than just '3d' video\n",
    "visualizer_3d.generate_video_3d(source_3d='optimized', start_frame_idx=0, end_frame_idx=None, video_type='composite')\n",
    "\n",
    "# visualizer_3d.generate_video_3d(source_3d='original', video_type='composite')\n",
    "# visualizer_3d.generate_video_3d(source_3d='original', video_type='3d')\n",
    "# visualizer_3d.generate_video_3d(source_3d='optimized', video_type='3d')"
   ]
  }
 ],
 "metadata": {
  "kernelspec": {
   "display_name": "marmopose120",
   "language": "python",
   "name": "python3"
  },
  "language_info": {
   "codemirror_mode": {
    "name": "ipython",
    "version": 3
   },
   "file_extension": ".py",
   "mimetype": "text/x-python",
   "name": "python",
   "nbconvert_exporter": "python",
   "pygments_lexer": "ipython3",
   "version": "3.8.20"
  }
 },
 "nbformat": 4,
 "nbformat_minor": 2
}
