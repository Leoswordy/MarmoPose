{
 "cells": [
  {
   "cell_type": "code",
   "execution_count": null,
   "metadata": {},
   "outputs": [],
   "source": [
    "import sys\n",
    "sys.path.append('../')\n",
    "\n",
    "import logging\n",
    "import warnings\n",
    "warnings.filterwarnings(\"ignore\", category=UserWarning) # TODO: Remove this in formal release\n",
    "\n",
    "from marmopose.version import __version__ as marmopose_version\n",
    "from marmopose.config import Config\n",
    "from marmopose.processing.prediction import Predictor\n",
    "from marmopose.visualization.display_2d import Visualizer2D\n",
    "from marmopose.visualization.display_3d import Visualizer3D\n",
    "from marmopose.processing.triangulation import Reconstructor3D\n",
    "\n",
    "logging.basicConfig(level=logging.INFO, format='%(asctime)s - %(levelname)s - %(name)s - %(message)s')\n",
    "logger = logging.getLogger(__name__)\n",
    "\n",
    "logger.info(f'MarmoPose version: {marmopose_version}')"
   ]
  },
  {
   "cell_type": "code",
   "execution_count": null,
   "metadata": {},
   "outputs": [],
   "source": [
    "config_path = '../configs/default.yaml'\n",
    "\n",
    "config = Config(\n",
    "    config_path=config_path,\n",
    "    \n",
    "    n_tracks=4,\n",
    "    project='../demos/family',\n",
    "\n",
    "    # Use finetuned detection model for predicting more identities\n",
    "    det_model='../models/detection_model_family_finetune'\n",
    "    # Use default pose model in the config\n",
    ")"
   ]
  },
  {
   "cell_type": "code",
   "execution_count": null,
   "metadata": {},
   "outputs": [],
   "source": [
    "predictor = Predictor(config, batch_size=4)\n",
    "predictor.predict()"
   ]
  },
  {
   "cell_type": "code",
   "execution_count": null,
   "metadata": {},
   "outputs": [],
   "source": [
    "reconstructor_3d = Reconstructor3D(config)\n",
    "reconstructor_3d.triangulate()"
   ]
  },
  {
   "cell_type": "code",
   "execution_count": null,
   "metadata": {},
   "outputs": [],
   "source": [
    "visualizer_2d = Visualizer2D(config)\n",
    "visualizer_2d.generate_videos_2d()"
   ]
  },
  {
   "cell_type": "code",
   "execution_count": null,
   "metadata": {},
   "outputs": [],
   "source": [
    "visualizer_3d = Visualizer3D(config)\n",
    "visualizer_3d.generate_video_3d(source_3d='optimized', video_type='composite')"
   ]
  }
 ],
 "metadata": {
  "kernelspec": {
   "display_name": "marmopose120",
   "language": "python",
   "name": "python3"
  },
  "language_info": {
   "codemirror_mode": {
    "name": "ipython",
    "version": 3
   },
   "file_extension": ".py",
   "mimetype": "text/x-python",
   "name": "python",
   "nbconvert_exporter": "python",
   "pygments_lexer": "ipython3",
   "version": "3.8.20"
  }
 },
 "nbformat": 4,
 "nbformat_minor": 2
}
