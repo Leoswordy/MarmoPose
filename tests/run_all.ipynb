{
 "cells": [
  {
   "cell_type": "code",
   "execution_count": null,
   "metadata": {},
   "outputs": [],
   "source": [
    "import os\n",
    "os.environ['HDF5_DISABLE_VERSION_CHECK'] = '2' \n",
    "os.environ['TF_CPP_MIN_LOG_LEVEL'] = '2' \n",
    "os.environ[\"NUMBA_NUM_THREADS\"] = \"6\"\n",
    "import numexpr as ne\n",
    "ne.set_num_threads(ne.detect_number_of_cores())\n",
    "\n",
    "from marmopose.utils.config import load_config\n",
    "\n",
    "project_dir = './demos/single_16p4c_long'\n",
    "config_file = os.path.join(project_dir, 'config.toml')\n",
    "config = load_config(config_file)"
   ]
  },
  {
   "cell_type": "code",
   "execution_count": null,
   "metadata": {},
   "outputs": [],
   "source": [
    "from marmopose.calibrate import calibrate\n",
    "from marmopose.utils.plots import plot_calibration\n",
    "\n",
    "# calibrate(config, verbose=True)\n",
    "# plot_calibration(config, n_show=2)"
   ]
  },
  {
   "cell_type": "code",
   "execution_count": null,
   "metadata": {},
   "outputs": [],
   "source": [
    "from marmopose.utils.coordinates import set_coordinates\n",
    "\n",
    "# set_coordinates(config, obj_name='axes', offset=[0, 0, 0], frame_idx=75)"
   ]
  },
  {
   "cell_type": "code",
   "execution_count": null,
   "metadata": {},
   "outputs": [],
   "source": [
    "from marmopose.evaluate import evaluate\n",
    "evaluate(config, './labels/models/model_single_v1.1', './labels/original_labels/labels_230703_n669_baseline.slp')"
   ]
  },
  {
   "cell_type": "code",
   "execution_count": null,
   "metadata": {},
   "outputs": [],
   "source": [
    "from marmopose.predict import predict\n",
    "from marmopose.utils.plots import plot_scores, plot_visibility\n",
    "# predict(config, multi_animal = False, verbose = True)\n",
    "# plot_scores(config)\n",
    "plot_visibility(config, mode='count')"
   ]
  },
  {
   "cell_type": "code",
   "execution_count": null,
   "metadata": {},
   "outputs": [],
   "source": [
    "from marmopose.visualize_2d import generate_video_2d\n",
    "\n",
    "# generate_video_2d(config, filtered=False, verbose=True)"
   ]
  },
  {
   "cell_type": "code",
   "execution_count": null,
   "metadata": {},
   "outputs": [],
   "source": [
    "from marmopose.triangulate import triangulate\n",
    "from marmopose.utils.plots import plot_triangulation_errors\n",
    "\n",
    "# triangulate(config, filtered = False, verbose = True)\n",
    "plot_triangulation_errors(config)"
   ]
  },
  {
   "cell_type": "code",
   "execution_count": null,
   "metadata": {},
   "outputs": [],
   "source": [
    "from marmopose.visualize_3d import generate_video_3d\n",
    "\n",
    "# generate_video_3d(config)"
   ]
  },
  {
   "cell_type": "code",
   "execution_count": null,
   "metadata": {},
   "outputs": [],
   "source": [
    "from marmopose.realtime import realtime_inference_and_show\n",
    "\n",
    "# realtime_inference_and_show(config, camera_paths=None, draw_2d=True, compute_3d=True, display_scale=0.5)"
   ]
  }
 ],
 "metadata": {
  "kernelspec": {
   "display_name": "sleap2",
   "language": "python",
   "name": "python3"
  },
  "language_info": {
   "codemirror_mode": {
    "name": "ipython",
    "version": 3
   },
   "file_extension": ".py",
   "mimetype": "text/x-python",
   "name": "python",
   "nbconvert_exporter": "python",
   "pygments_lexer": "ipython3",
   "version": "3.9.15"
  },
  "orig_nbformat": 4
 },
 "nbformat": 4,
 "nbformat_minor": 2
}
